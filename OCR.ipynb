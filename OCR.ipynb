{
 "cells": [
  {
   "cell_type": "markdown",
   "metadata": {},
   "source": [
    "# Introduction:\n",
    "The following project is an implementation of Optical character recognition.\n",
    "It uses the Tensorflow library to implement a Neural network which will be trained on the MNIST dataset to perform the desired operation. "
   ]
  },
  {
   "cell_type": "markdown",
   "metadata": {},
   "source": [
    "## Imports:"
   ]
  },
  {
   "cell_type": "code",
   "execution_count": 102,
   "metadata": {},
   "outputs": [],
   "source": [
    "import tensorflow as tf\n",
    "import matplotlib.pyplot as plt\n",
    "import random\n",
    "\n",
    "%matplotlib inline\n",
    "plt.rcParams['figure.figsize'] = (5.0, 4.0)\n",
    "plt.rcParams['image.interpolation'] = 'nearest'\n",
    "plt.rcParams['image.cmap'] = 'gray'"
   ]
  },
  {
   "cell_type": "markdown",
   "metadata": {},
   "source": [
    "## Fetching data:"
   ]
  },
  {
   "cell_type": "code",
   "execution_count": 103,
   "metadata": {},
   "outputs": [],
   "source": [
    "(X_train, y_train), (X_test, y_test) = tf.keras.datasets.mnist.load_data(path = 'mnist.npz')"
   ]
  },
  {
   "cell_type": "markdown",
   "metadata": {},
   "source": [
    "## Exploring the data:"
   ]
  },
  {
   "cell_type": "code",
   "execution_count": 104,
   "metadata": {},
   "outputs": [
    {
     "name": "stdout",
     "output_type": "stream",
     "text": [
      "Shape of input training set: (60000, 28, 28)\n",
      "Shape of label training set: (60000,)\n",
      "Shape of input test set: (10000, 28, 28)\n",
      "Shape of label test set: (10000,)\n",
      "Number of training examples: 60000\n",
      "Number of test examples: 10000\n",
      "Each image is of size: (28, 28)\n"
     ]
    }
   ],
   "source": [
    "Xtrain_shape = X_train.shape\n",
    "Ytrain_shape = y_train.shape\n",
    "Xtest_shape = X_test.shape\n",
    "Ytest_shape = y_test.shape\n",
    "m_train = Xtrain_shape[0]\n",
    "num_px = Xtrain_shape[1]\n",
    "m_test = Xtest_shape[0]\n",
    "\n",
    "print('Shape of input training set:',Xtrain_shape)\n",
    "print('Shape of label training set:',Ytrain_shape)\n",
    "print('Shape of input test set:',Xtest_shape)\n",
    "print('Shape of label test set:',Ytest_shape)\n",
    "print('Number of training examples:', m_train)\n",
    "print('Number of test examples:', m_test)\n",
    "print('Each image is of size: (' + str(num_px) + ', ' + str(num_px) + ')')"
   ]
  },
  {
   "cell_type": "markdown",
   "metadata": {},
   "source": [
    "As we can see from the output of the previous cell, the training set consists of a total of 70,000 images which have been split into two parts: The training set and the test set.\n",
    "The training set consists of 60,000 images and will be used to train the neural network and the test set will be used to evaluate the performance of the neural network once it has been trained. Each image of the training set has the dimensions (28,28). Let us look at the plots of some of the images to understand how the data to the neural network looks like:"
   ]
  },
  {
   "cell_type": "code",
   "execution_count": 105,
   "metadata": {},
   "outputs": [
    {
     "name": "stdout",
     "output_type": "stream",
     "text": [
      "16328th image in training set is the number 2\n"
     ]
    },
    {
     "data": {
      "text/plain": [
       "<matplotlib.image.AxesImage at 0x25632927208>"
      ]
     },
     "execution_count": 105,
     "metadata": {},
     "output_type": "execute_result"
    },
    {
     "data": {
      "image/png": "[encoded data removed]",
      "text/plain": [
       "<Figure size 360x288 with 1 Axes>"
      ]
     },
     "metadata": {
      "needs_background": "light"
     },
     "output_type": "display_data"
    }
   ],
   "source": [
    "index = random.randint(0,60000)\n",
    "print('{}th image in training set is the number {}'.format(index, y_train[index]))\n",
    "plt.imshow(X_train[index])"
   ]
  },
  {
   "cell_type": "markdown",
   "metadata": {},
   "source": [
    "## Helper class for handling callbacks:\n",
    "In the following cell, we define a class myCallback which will be used to handle callbacks from during the training process. In the context of this project, it will be used to check whether the neural network that we are training has achieved a certain level of accuracy. If it has, we can stop the training process as we have achieved our desired accuracy. Let us assume that we can stop the training process if we achieve an accuracy score of 99% or higher."
   ]
  },
  {
   "cell_type": "code",
   "execution_count": 106,
   "metadata": {},
   "outputs": [],
   "source": [
    "class myCallback(tf.keras.callbacks.Callback):\n",
    "    def on_epoch_end(self, epoch, logs = {}):\n",
    "        if (logs.get('accuracy') is not None and logs.get('accuracy') > 0.99):\n",
    "            print('\\nReached accuracy of 99%. Stopping training process!')\n",
    "            self.model.stop_training = True"
   ]
  },
  {
   "cell_type": "markdown",
   "metadata": {},
   "source": [
    "## Normalizing the data:\n",
    "When we are working with big numbers, it is a good practice to normalize the data that we are working with so that it lies between 0 and 1. This ensures better performance of the neural network. Since we are working with image data, we know that the values of the pixels lies between 0 and 255. Hence, by dividing the training and test data with the number 255, we can normalize our data."
   ]
  },
  {
   "cell_type": "code",
   "execution_count": 107,
   "metadata": {},
   "outputs": [],
   "source": [
    "X_train = X_train / 255.0\n",
    "X_test = X_test / 255.0"
   ]
  },
  {
   "cell_type": "markdown",
   "metadata": {},
   "source": [
    "## Defining the neural network:\n",
    "In the following section, we will define the structure of the neural network that we want to train. We will train neural networks with varying number of layers and neurons to compare the performances and choose the best one among them.\n",
    "We will start with a 2 layered neural network and go upto 4 layers.\n",
    "### Defining the 2 layered neural network:\n",
    "In the 2 layered neural network, the layers are the input and output layers. Hence, the number neurons in the input layer will be 784 because the size of the input images is (28 * 28). The output layer will contain 10 neurons because there are 10 digits, i.e 0-9 that we are trying to classify."
   ]
  },
  {
   "cell_type": "code",
   "execution_count": 121,
   "metadata": {},
   "outputs": [],
   "source": [
    "twoLayeredModel = tf.keras.models.Sequential([\n",
    "    tf.keras.layers.Flatten(input_shape = (28,28)),\n",
    "    tf.keras.layers.Dense(10, activation = tf.nn.softmax)\n",
    "])"
   ]
  },
  {
   "cell_type": "markdown",
   "metadata": {},
   "source": [
    "### Defining the 3 layered neual network:\n",
    "In the 3 layered neural network, the  layers are the input, output and one hidden layer. The number of neurons in the input and output layers will be the same as the 2 layered neural network. The number of neurons in the hidden layer can be varied and hence, we will try the following number of neurons in the 3 layered neural network: 128, 256, 512 and 1024."
   ]
  },
  {
   "cell_type": "code",
   "execution_count": 122,
   "metadata": {},
   "outputs": [],
   "source": [
    "threeLayeredModel_1 = tf.keras.models.Sequential([\n",
    "    tf.keras.layers.Flatten(input_shape = (28,28)),\n",
    "    tf.keras.layers.Dense(128, activation = tf.nn.relu),\n",
    "    tf.keras.layers.Dense(10, activation = tf.nn.softmax)\n",
    "])\n",
    "\n",
    "threeLayeredModel_2 = tf.keras.models.Sequential([\n",
    "    tf.keras.layers.Flatten(input_shape = (28,28)),\n",
    "    tf.keras.layers.Dense(256, activation = tf.nn.relu),\n",
    "    tf.keras.layers.Dense(10, activation = tf.nn.softmax)\n",
    "])\n",
    "\n",
    "threeLayeredModel_3 = tf.keras.models.Sequential([\n",
    "    tf.keras.layers.Flatten(input_shape = (28,28)),\n",
    "    tf.keras.layers.Dense(512, activation = tf.nn.relu),\n",
    "    tf.keras.layers.Dense(10, activation = tf.nn.softmax)\n",
    "])\n",
    "\n",
    "threeLayeredModel_4 = tf.keras.models.Sequential([\n",
    "    tf.keras.layers.Flatten(input_shape = (28,28)),\n",
    "    tf.keras.layers.Dense(1024, activation = tf.nn.relu),\n",
    "    tf.keras.layers.Dense(10, activation = tf.nn.softmax)\n",
    "])"
   ]
  },
  {
   "cell_type": "markdown",
   "metadata": {},
   "source": [
    "### Defining the 4 layered neural network:\n",
    "In the 4 layered neural network, the number of neurons in the input and output layers will be the same as the 2 layered and 3 layered neural networks. The number of neurons in the 2 hidden layers can be varied. We will train the following 3 models."
   ]
  },
  {
   "cell_type": "code",
   "execution_count": 123,
   "metadata": {},
   "outputs": [],
   "source": [
    "fourLayeredModel_1 = tf.keras.models.Sequential([\n",
    "    tf.keras.layers.Flatten(input_shape = (28, 28)),\n",
    "    tf.keras.layers.Dense(512, activation = tf.nn.relu),\n",
    "    tf.keras.layers.Dense(512, activation = tf.nn.relu),\n",
    "    tf.keras.layers.Dense(10, activation = tf.nn.softmax)\n",
    "])\n",
    "\n",
    "fourLayeredModel_2 = tf.keras.models.Sequential([\n",
    "    tf.keras.layers.Flatten(input_shape = (28, 28)),\n",
    "    tf.keras.layers.Dense(256, activation = tf.nn.relu),\n",
    "    tf.keras.layers.Dense(768, activation = tf.nn.relu),\n",
    "    tf.keras.layers.Dense(10, activation = tf.nn.softmax)\n",
    "])\n",
    "\n",
    "fourLayeredModel_3 = tf.keras.models.Sequential([\n",
    "    tf.keras.layers.Flatten(input_shape = (28, 28)),\n",
    "    tf.keras.layers.Dense(128, activation = tf.nn.relu),\n",
    "    tf.keras.layers.Dense(896, activation = tf.nn.relu),\n",
    "    tf.keras.layers.Dense(10, activation = tf.nn.softmax)\n",
    "])"
   ]
  },
  {
   "cell_type": "markdown",
   "metadata": {},
   "source": [
    "## Compiling the neural networks:\n",
    "As we have finished defining our neural networks, the next step is to compile the neural networks. Here, we will be defining the optimizer and loss functions for our neural networks. The optimizer function we are using is the adam optimizer function and the loss function we are using is the sparse_categorical_crossentropy function."
   ]
  },
  {
   "cell_type": "code",
   "execution_count": 124,
   "metadata": {},
   "outputs": [],
   "source": [
    "twoLayeredModel.compile(optimizer = 'adam', loss = 'sparse_categorical_crossentropy', metrics = ['accuracy'])\n",
    "\n",
    "threeLayeredModel_1.compile(optimizer = 'adam', loss = 'sparse_categorical_crossentropy', metrics = ['accuracy'])\n",
    "threeLayeredModel_2.compile(optimizer = 'adam', loss = 'sparse_categorical_crossentropy', metrics = ['accuracy'])\n",
    "threeLayeredModel_3.compile(optimizer = 'adam', loss = 'sparse_categorical_crossentropy', metrics = ['accuracy'])\n",
    "threeLayeredModel_4.compile(optimizer = 'adam', loss = 'sparse_categorical_crossentropy', metrics = ['accuracy'])\n",
    "\n",
    "fourLayeredModel_1.compile(optimizer = 'adam', loss = 'sparse_categorical_crossentropy', metrics = ['accuracy'])\n",
    "fourLayeredModel_2.compile(optimizer = 'adam', loss = 'sparse_categorical_crossentropy', metrics = ['accuracy'])\n",
    "fourLayeredModel_3.compile(optimizer = 'adam', loss = 'sparse_categorical_crossentropy', metrics = ['accuracy'])"
   ]
  },
  {
   "cell_type": "markdown",
   "metadata": {},
   "source": [
    "## Training the neural networks:\n",
    "The last step is to train the different neural networks that we have created with the mnist dataset. First, we create an object of myCallback class to detect 99% accuracy condition."
   ]
  },
  {
   "cell_type": "code",
   "execution_count": 125,
   "metadata": {},
   "outputs": [],
   "source": [
    "callbacks = myCallback()"
   ]
  },
  {
   "cell_type": "code",
   "execution_count": 126,
   "metadata": {},
   "outputs": [
    {
     "name": "stdout",
     "output_type": "stream",
     "text": [
      "Train on 60000 samples\n",
      "Epoch 1/10\n",
      "60000/60000 [==============================] - 3s 47us/sample - loss: 0.4705 - accuracy: 0.8774\n",
      "Epoch 2/10\n",
      "60000/60000 [==============================] - 3s 43us/sample - loss: 0.3034 - accuracy: 0.9153\n",
      "Epoch 3/10\n",
      "60000/60000 [==============================] - 3s 43us/sample - loss: 0.2829 - accuracy: 0.9206\n",
      "Epoch 4/10\n",
      "60000/60000 [==============================] - 3s 48us/sample - loss: 0.2734 - accuracy: 0.9233\n",
      "Epoch 5/10\n",
      "60000/60000 [==============================] - 3s 43us/sample - loss: 0.2666 - accuracy: 0.9256\n",
      "Epoch 6/10\n",
      "60000/60000 [==============================] - 3s 46us/sample - loss: 0.2619 - accuracy: 0.9266\n",
      "Epoch 7/10\n",
      "60000/60000 [==============================] - 3s 47us/sample - loss: 0.2587 - accuracy: 0.9276\n",
      "Epoch 8/10\n",
      "60000/60000 [==============================] - 3s 45us/sample - loss: 0.2554 - accuracy: 0.9292\n",
      "Epoch 9/10\n",
      "60000/60000 [==============================] - 2s 41us/sample - loss: 0.2532 - accuracy: 0.9293\n",
      "Epoch 10/10\n",
      "60000/60000 [==============================] - 2s 41us/sample - loss: 0.2511 - accuracy: 0.9303\n",
      "Two layered model summary:\n",
      "Number of epochs: [0, 1, 2, 3, 4, 5, 6, 7, 8, 9]\n",
      "Best accuracy score: 93.02833080291748\n",
      "Train on 60000 samples\n",
      "Epoch 1/10\n",
      "60000/60000 [==============================] - 4s 59us/sample - loss: 0.2582 - accuracy: 0.9270\n",
      "Epoch 2/10\n",
      "60000/60000 [==============================] - 3s 55us/sample - loss: 0.1146 - accuracy: 0.9662\n",
      "Epoch 3/10\n",
      "60000/60000 [==============================] - 4s 60us/sample - loss: 0.0790 - accuracy: 0.9762\n",
      "Epoch 4/10\n",
      "60000/60000 [==============================] - 3s 55us/sample - loss: 0.0587 - accuracy: 0.9819\n",
      "Epoch 5/10\n",
      "60000/60000 [==============================] - 3s 55us/sample - loss: 0.0451 - accuracy: 0.9861\n",
      "Epoch 6/10\n",
      "60000/60000 [==============================] - 3s 55us/sample - loss: 0.0349 - accuracy: 0.9891\n",
      "Epoch 7/10\n",
      "59616/60000 [============================>.] - ETA: 0s - loss: 0.0281 - accuracy: 0.9913\n",
      "Reached accuracy of 99%. Stopping training process!\n",
      "60000/60000 [==============================] - 3s 54us/sample - loss: 0.0282 - accuracy: 0.9913\n",
      "Three layered model with 128 neurons in hidden layer summary:\n",
      "Number of epochs: [0, 1, 2, 3, 4, 5, 6]\n",
      "Best accuracy score: 99.13166761398315\n",
      "Train on 60000 samples\n",
      "Epoch 1/10\n",
      "60000/60000 [==============================] - 5s 78us/sample - loss: 0.2240 - accuracy: 0.9355\n",
      "Epoch 2/10\n",
      "60000/60000 [==============================] - 4s 68us/sample - loss: 0.0919 - accuracy: 0.9724\n",
      "Epoch 3/10\n",
      "60000/60000 [==============================] - 4s 67us/sample - loss: 0.0610 - accuracy: 0.9817\n",
      "Epoch 4/10\n",
      "60000/60000 [==============================] - 4s 70us/sample - loss: 0.0439 - accuracy: 0.9866\n",
      "Epoch 5/10\n",
      "60000/60000 [==============================] - 4s 69us/sample - loss: 0.0335 - accuracy: 0.9894\n",
      "Epoch 6/10\n",
      "59744/60000 [============================>.] - ETA: 0s - loss: 0.0239 - accuracy: 0.9920\n",
      "Reached accuracy of 99%. Stopping training process!\n",
      "60000/60000 [==============================] - 4s 66us/sample - loss: 0.0239 - accuracy: 0.9920\n",
      "Three layered model with 256 neurons in hidden layer summary:\n",
      "Number of epochs: [0, 1, 2, 3, 4, 5]\n",
      "Best accuracy score: 99.20499920845032\n",
      "Train on 60000 samples\n",
      "Epoch 1/10\n",
      "60000/60000 [==============================] - 8s 133us/sample - loss: 0.2021 - accuracy: 0.9406\n",
      "Epoch 2/10\n",
      "60000/60000 [==============================] - 7s 124us/sample - loss: 0.0817 - accuracy: 0.9751\n",
      "Epoch 3/10\n",
      "60000/60000 [==============================] - 7s 118us/sample - loss: 0.0512 - accuracy: 0.9838\n",
      "Epoch 4/10\n",
      "60000/60000 [==============================] - 7s 124us/sample - loss: 0.0372 - accuracy: 0.9886\n",
      "Epoch 5/10\n",
      "59904/60000 [============================>.] - ETA: 0s - loss: 0.0264 - accuracy: 0.9911\n",
      "Reached accuracy of 99%. Stopping training process!\n",
      "60000/60000 [==============================] - 7s 120us/sample - loss: 0.0265 - accuracy: 0.9911\n",
      "Three layered model with 512 neurons in hidden layer summary:\n",
      "Number of epochs: [0, 1, 2, 3, 4]\n",
      "Best accuracy score: 99.11333322525024\n",
      "Train on 60000 samples\n",
      "Epoch 1/10\n",
      "60000/60000 [==============================] - 13s 209us/sample - loss: 0.1831 - accuracy: 0.9456\n",
      "Epoch 2/10\n",
      "60000/60000 [==============================] - 12s 196us/sample - loss: 0.0744 - accuracy: 0.9773\n",
      "Epoch 3/10\n",
      "60000/60000 [==============================] - 12s 204us/sample - loss: 0.0484 - accuracy: 0.9849\n",
      "Epoch 4/10\n",
      "60000/60000 [==============================] - 12s 194us/sample - loss: 0.0344 - accuracy: 0.9889\n",
      "Epoch 5/10\n",
      "59808/60000 [============================>.] - ETA: 0s - loss: 0.0242 - accuracy: 0.9918\n",
      "Reached accuracy of 99%. Stopping training process!\n",
      "60000/60000 [==============================] - 13s 212us/sample - loss: 0.0243 - accuracy: 0.9918\n",
      "Three layered model with 1024 neurons in hidden layer summary:\n",
      "Number of epochs: [0, 1, 2, 3, 4]\n",
      "Best accuracy score: 99.17500019073486\n",
      "Train on 60000 samples\n",
      "Epoch 1/10\n",
      "60000/60000 [==============================] - 14s 229us/sample - loss: 0.1835 - accuracy: 0.9437\n",
      "Epoch 2/10\n",
      "60000/60000 [==============================] - 13s 220us/sample - loss: 0.0794 - accuracy: 0.9743\n",
      "Epoch 3/10\n",
      "60000/60000 [==============================] - 13s 222us/sample - loss: 0.0538 - accuracy: 0.9828\n",
      "Epoch 4/10\n",
      "60000/60000 [==============================] - 13s 217us/sample - loss: 0.0414 - accuracy: 0.9871\n",
      "Epoch 5/10\n",
      "60000/60000 [==============================] - 13s 220us/sample - loss: 0.0346 - accuracy: 0.9892\n",
      "Epoch 6/10\n",
      "60000/60000 [==============================] - 14s 232us/sample - loss: 0.0312 - accuracy: 0.9899\n",
      "Epoch 7/10\n",
      "59744/60000 [============================>.] - ETA: 0s - loss: 0.0252 - accuracy: 0.9923\n",
      "Reached accuracy of 99%. Stopping training process!\n",
      "60000/60000 [==============================] - 14s 232us/sample - loss: 0.0253 - accuracy: 0.9923\n",
      "Four layered model with 512 neurons in first hidden layer and 512 neurons in second hidden layer summary:\n",
      "Number of epochs: [0, 1, 2, 3, 4, 5, 6]\n",
      "Best accuracy score: 99.22666549682617\n",
      "Train on 60000 samples\n",
      "Epoch 1/10\n",
      "60000/60000 [==============================] - 8s 127us/sample - loss: 0.1967 - accuracy: 0.9391\n",
      "Epoch 2/10\n",
      "60000/60000 [==============================] - 7s 120us/sample - loss: 0.0850 - accuracy: 0.9737\n",
      "Epoch 3/10\n",
      "60000/60000 [==============================] - 6s 106us/sample - loss: 0.0587 - accuracy: 0.9812\n",
      "Epoch 4/10\n",
      "60000/60000 [==============================] - 7s 115us/sample - loss: 0.0451 - accuracy: 0.9855\n",
      "Epoch 5/10\n",
      "60000/60000 [==============================] - 6s 106us/sample - loss: 0.0377 - accuracy: 0.9879\n",
      "Epoch 6/10\n",
      "59872/60000 [============================>.] - ETA: 0s - loss: 0.0290 - accuracy: 0.9908\n",
      "Reached accuracy of 99%. Stopping training process!\n",
      "60000/60000 [==============================] - 7s 111us/sample - loss: 0.0292 - accuracy: 0.9908\n",
      "Four layered model with 256 neurons in first hidden layer and 768 neurons in second hidden layer summary:\n",
      "Number of epochs: [0, 1, 2, 3, 4, 5]\n",
      "Best accuracy score: 99.07833337783813\n",
      "Train on 60000 samples\n",
      "Epoch 1/10\n",
      "60000/60000 [==============================] - 5s 86us/sample - loss: 0.2070 - accuracy: 0.9372\n",
      "Epoch 2/10\n",
      "60000/60000 [==============================] - 5s 80us/sample - loss: 0.0911 - accuracy: 0.9723\n",
      "Epoch 3/10\n",
      "60000/60000 [==============================] - 5s 84us/sample - loss: 0.0634 - accuracy: 0.9802\n",
      "Epoch 4/10\n",
      "60000/60000 [==============================] - 5s 82us/sample - loss: 0.0495 - accuracy: 0.9842\n",
      "Epoch 5/10\n",
      "60000/60000 [==============================] - 5s 83us/sample - loss: 0.0415 - accuracy: 0.9864\n",
      "Epoch 6/10\n",
      "60000/60000 [==============================] - 6s 97us/sample - loss: 0.0332 - accuracy: 0.9891\n",
      "Epoch 7/10\n",
      "59488/60000 [============================>.] - ETA: 0s - loss: 0.0278 - accuracy: 0.9912\n",
      "Reached accuracy of 99%. Stopping training process!\n",
      "60000/60000 [==============================] - 5s 87us/sample - loss: 0.0279 - accuracy: 0.9912\n",
      "Four layered model with 128 neurons in first hidden layer and 896 neurons in second hidden layer summary:\n",
      "Number of epochs: [0, 1, 2, 3, 4, 5, 6]\n",
      "Best accuracy score: 99.11500215530396\n"
     ]
    }
   ],
   "source": [
    "twoLayeredModelHistory = twoLayeredModel.fit(X_train, y_train, epochs = 10, callbacks = [callbacks])\n",
    "print('Two layered model summary:\\nNumber of epochs: {}\\nBest accuracy score: {}'.format(twoLayeredModelHistory.epoch, max(twoLayeredModelHistory.history['accuracy'])*100))\n",
    "\n",
    "threeLayeredModel1History = threeLayeredModel_1.fit(X_train, y_train, epochs = 10, callbacks = [callbacks])\n",
    "print('Three layered model with 128 neurons in hidden layer summary:\\nNumber of epochs: {}\\nBest accuracy score: {}'.format(threeLayeredModel1History.epoch, max(threeLayeredModel1History.history['accuracy'])*100))\n",
    "threeLayeredModel2History = threeLayeredModel_2.fit(X_train, y_train, epochs = 10, callbacks = [callbacks])\n",
    "print('Three layered model with 256 neurons in hidden layer summary:\\nNumber of epochs: {}\\nBest accuracy score: {}'.format(threeLayeredModel2History.epoch, max(threeLayeredModel2History.history['accuracy'])*100))\n",
    "threeLayeredModel3History = threeLayeredModel_3.fit(X_train, y_train, epochs = 10, callbacks = [callbacks])\n",
    "print('Three layered model with 512 neurons in hidden layer summary:\\nNumber of epochs: {}\\nBest accuracy score: {}'.format(threeLayeredModel3History.epoch, max(threeLayeredModel3History.history['accuracy'])*100))\n",
    "threeLayeredModel4History = threeLayeredModel_4.fit(X_train, y_train, epochs = 10, callbacks = [callbacks])\n",
    "print('Three layered model with 1024 neurons in hidden layer summary:\\nNumber of epochs: {}\\nBest accuracy score: {}'.format(threeLayeredModel4History.epoch, max(threeLayeredModel4History.history['accuracy'])*100))\n",
    "\n",
    "fourLayeredModel1History = fourLayeredModel_1.fit(X_train, y_train, epochs = 10, callbacks = [callbacks])\n",
    "print('Four layered model with 512 neurons in first hidden layer and 512 neurons in second hidden layer summary:\\nNumber of epochs: {}\\nBest accuracy score: {}'.format(fourLayeredModel1History.epoch, max(fourLayeredModel1History.history['accuracy'])*100))\n",
    "fourLayeredModel2History = fourLayeredModel_2.fit(X_train, y_train, epochs = 10, callbacks = [callbacks])\n",
    "print('Four layered model with 256 neurons in first hidden layer and 768 neurons in second hidden layer summary:\\nNumber of epochs: {}\\nBest accuracy score: {}'.format(fourLayeredModel2History.epoch, max(fourLayeredModel2History.history['accuracy'])*100))\n",
    "fourLayeredModel3History = fourLayeredModel_3.fit(X_train, y_train, epochs = 10, callbacks = [callbacks])\n",
    "print('Four layered model with 128 neurons in first hidden layer and 896 neurons in second hidden layer summary:\\nNumber of epochs: {}\\nBest accuracy score: {}'.format(fourLayeredModel3History.epoch, max(fourLayeredModel3History.history['accuracy'])*100))"
   ]
  },
  {
   "cell_type": "markdown",
   "metadata": {},
   "source": [
    "## Testing the neural networks on unseen data:\n",
    "In the following section, we will test all our trained neural networks on our test set X_test."
   ]
  },
  {
   "cell_type": "code",
   "execution_count": 127,
   "metadata": {},
   "outputs": [
    {
     "name": "stdout",
     "output_type": "stream",
     "text": [
      "10000/10000 [==============================] - 1s 72us/sample - loss: 0.2652 - accuracy: 0.9258\n",
      "10000/10000 [==============================] - 1s 51us/sample - loss: 0.0711 - accuracy: 0.9771\n",
      "10000/10000 [==============================] - 1s 50us/sample - loss: 0.0772 - accuracy: 0.9773\n",
      "10000/10000 [==============================] - 1s 69us/sample - loss: 0.0743 - accuracy: 0.9787\n",
      "10000/10000 [==============================] - 1s 93us/sample - loss: 0.0832 - accuracy: 0.9772\n",
      "10000/10000 [==============================] - 1s 92us/sample - loss: 0.0896 - accuracy: 0.9789\n",
      "10000/10000 [==============================] - 1s 71us/sample - loss: 0.1100 - accuracy: 0.9736\n",
      "10000/10000 [==============================] - 1s 56us/sample - loss: 0.1051 - accuracy: 0.9760\n",
      "Observed results:\n",
      "Loss and accuracy of 2 layered neural network-\n",
      "Accuracy: 92.58000254631042\tLoss: 26.516980631351473\n",
      "\n",
      "Loss and accuracy of first 3 layered neural network-\n",
      "Accuracy: 97.71000146865845\tLoss: 7.114940251931548\n",
      "\n",
      "Loss and accuracy of second 3 layered neural network-\n",
      "Accuracy: 97.72999882698059\tLoss: 7.717044354443788\n",
      "\n",
      "Loss and accuracy of third 3 layered neural network-\n",
      "Accuracy: 97.86999821662903\tLoss: 7.433205621260859\n",
      "\n",
      "Loss and accuracy of fourth 3 layered neural network-\n",
      "Accuracy: 97.71999716758728\tLoss: 8.322871014319972\n",
      "\n",
      "Loss and accuracy of first 4 layered neural network-\n",
      "Accuracy: 97.89000153541565\tLoss: 8.962629477282782\n",
      "\n",
      "Loss and accuracy of second 4 layered neural network-\n",
      "Accuracy: 97.35999703407288\tLoss: 11.001411170655338\n",
      "\n",
      "Loss and accuracy of third 4 layered neural network-\n",
      "Accuracy: 97.86999821662903\tLoss: 7.433205621260859\n",
      "\n"
     ]
    }
   ],
   "source": [
    "twoLayerResult = twoLayeredModel.evaluate(X_test, y_test)\n",
    "\n",
    "threeLayerResult1 = threeLayeredModel_1.evaluate(X_test, y_test)\n",
    "threeLayerResult2 = threeLayeredModel_2.evaluate(X_test, y_test)\n",
    "threeLayerResult3 = threeLayeredModel_3.evaluate(X_test, y_test)\n",
    "threeLayerResult4 = threeLayeredModel_4.evaluate(X_test, y_test)\n",
    "\n",
    "fourLayerResult1 = fourLayeredModel_1.evaluate(X_test, y_test)\n",
    "fourLayerResult2 = fourLayeredModel_2.evaluate(X_test, y_test)\n",
    "fourLayerResult3 = fourLayeredModel_3.evaluate(X_test, y_test)\n",
    "\n",
    "print('Observed results:')\n",
    "print('Loss and accuracy of 2 layered neural network-\\nAccuracy: {}\\tLoss: {}\\n'.format(twoLayerResult[1] * 100, twoLayerResult[0] * 100))\n",
    "\n",
    "print('Loss and accuracy of first 3 layered neural network-\\nAccuracy: {}\\tLoss: {}\\n'.format(threeLayerResult1[1] * 100, threeLayerResult1[0] * 100))\n",
    "print('Loss and accuracy of second 3 layered neural network-\\nAccuracy: {}\\tLoss: {}\\n'.format(threeLayerResult2[1] * 100, threeLayerResult2[0] * 100))\n",
    "print('Loss and accuracy of third 3 layered neural network-\\nAccuracy: {}\\tLoss: {}\\n'.format(threeLayerResult3[1] * 100, threeLayerResult3[0] * 100))\n",
    "print('Loss and accuracy of fourth 3 layered neural network-\\nAccuracy: {}\\tLoss: {}\\n'.format(threeLayerResult4[1] * 100, threeLayerResult4[0] * 100))\n",
    "\n",
    "print('Loss and accuracy of first 4 layered neural network-\\nAccuracy: {}\\tLoss: {}\\n'.format(fourLayerResult1[1] * 100, fourLayerResult1[0] * 100))\n",
    "print('Loss and accuracy of second 4 layered neural network-\\nAccuracy: {}\\tLoss: {}\\n'.format(fourLayerResult2[1] * 100, fourLayerResult2[0] * 100))\n",
    "print('Loss and accuracy of third 4 layered neural network-\\nAccuracy: {}\\tLoss: {}\\n'.format(threeLayerResult3[1] * 100, threeLayerResult3[0] * 100))"
   ]
  },
  {
   "cell_type": "code",
   "execution_count": null,
   "metadata": {},
   "outputs": [],
   "source": []
  }
 ],
 "metadata": {
  "kernelspec": {
   "display_name": "Python 3",
   "language": "python",
   "name": "python3"
  },
  "language_info": {
   "codemirror_mode": {
    "name": "ipython",
    "version": 3
   },
   "file_extension": ".py",
   "mimetype": "text/x-python",
   "name": "python",
   "nbconvert_exporter": "python",
   "pygments_lexer": "ipython3",
   "version": "3.7.6"
  }
 },
 "nbformat": 4,
 "nbformat_minor": 4
}
